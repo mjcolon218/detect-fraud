{
 "cells": [
  {
   "cell_type": "markdown",
   "id": "9f485cae",
   "metadata": {},
   "source": [
    "# Data Transform\n",
    "\n",
    "In this notebook, we will ask you a series of questions to evaluate your findings from your EDA. Based on your response & justification, we will ask you to also apply a subsequent data transformation. \n",
    "\n",
    "If you state that you will not apply any data transformations for this step, you must **justify** as to why your dataset/machine-learning does not require the mentioned data preprocessing step.\n",
    "\n",
    "The bonus step is completely optional, but if you provide a sufficient feature engineering step in this project we will add `1000` points to your Kahoot leaderboard score.\n",
    "\n",
    "You will write out this transformed dataframe as a `.csv` file to your `data/` folder.\n",
    "\n",
    "**Note**: Again, note that this dataset is quite large. If you find that some data operations take too long to complete on your machine, simply use the `sample()` method to transform a subset of your data."
   ]
  },
  {
   "cell_type": "code",
   "execution_count": 1,
   "id": "90a38922",
   "metadata": {},
   "outputs": [],
   "source": [
    "import pandas as pd\n",
    "import numpy as np"
   ]
  },
  {
   "cell_type": "markdown",
   "id": "1360ca62",
   "metadata": {},
   "source": [
    "## Q1\n",
    "\n",
    "Does your model contain any missing values or \"non-predictive\" columns? If so, which adjustments should you take to ensure that your model has good predictive capabilities? Apply your data transformations (if any) in the code-block below.\n"
   ]
  },
  {
   "cell_type": "markdown",
   "id": "c955a0a1",
   "metadata": {},
   "source": [
    "There are no missing values in the dataset.\n",
    "I identified the following non-predictive columns to exclude from model training.\n",
    "I also would perform log transformations on the skewed data to compress the values.\n",
    "I would also derive new features from the account beggining and ending balances."
   ]
  },
  {
   "cell_type": "code",
   "execution_count": 11,
   "id": "6cfe64ca",
   "metadata": {},
   "outputs": [],
   "source": [
    "data = pd.read_csv('../data/bank_transactions.csv')"
   ]
  },
  {
   "cell_type": "markdown",
   "id": "301be5ef",
   "metadata": {},
   "source": [
    "## Q2\n",
    "\n",
    "Do certain transaction types consistently differ in amount or fraud likelihood? If so, how might you transform the type column to make this pattern usable by a machine learning model? Apply your data transformations (if any) in the code-block below.\n"
   ]
  },
  {
   "cell_type": "markdown",
   "id": "d4123740",
   "metadata": {},
   "source": [
    "TRANSFER and CASH_OUT transactions show non-zero fraud rates\n",
    "TRANSFERs are very large on average and more likely to be fraudulent.\n",
    "We Should use one Hot Encoding on the type columns."
   ]
  },
  {
   "cell_type": "markdown",
   "id": "b952403f",
   "metadata": {},
   "source": [
    "## Q3\n",
    "\n",
    "After exploring your data, you may have noticed that fraudulent transactions are rare compared to non-fraudulent ones. What challenges might this pose when training a machine learning model? What strategies could you use to ensure your model learns meaningful patterns from the minority class? Apply your data transformations (if any) in the code-block below.\n",
    "\n"
   ]
  },
  {
   "cell_type": "markdown",
   "id": "c10e7632",
   "metadata": {},
   "source": [
    "Class\tPercent\n",
    "Non-Fraud (0)\t99.87%\n",
    "Fraud (1)\t0.13%\n",
    "\n",
    "This is extremely imbalanced, and poses a big challenge:\n",
    "\n",
    "🔴 Problem:\n",
    "A naive model could achieve 99.87% accuracy just by predicting “non-fraud” every time — but it would miss all actual fraud cases (Recall = 0).\n",
    "Use Smote With Stratifying in your cross Validation."
   ]
  },
  {
   "cell_type": "markdown",
   "id": "17737e9e",
   "metadata": {},
   "source": [
    "## Bonus (optional)\n",
    "\n",
    "Are there interaction effects between variables (e.g., fraud and high amount and transaction type) that aren't captured directly in the dataset? Would it be helpful to manually engineer any new features that reflect these interactions? Apply your data transformations (if any) in the code-block below.\n"
   ]
  },
  {
   "cell_type": "markdown",
   "id": "3c5e55cf",
   "metadata": {},
   "source": [
    "✅ 2. Optionally: Engineer a Custom Binary Feature\n",
    "You could optionally add a feature like:\n",
    "\n",
    "python\n",
    "Copy\n",
    "Edit\n",
    "df_sample[\"is_high_risk_type\"] = df_sample[\"type\"].isin([\"TRANSFER\", \"CASH_OUT\"]).astype(int)\n",
    "This might improve performance for simpler models like Logistic Regression.\n",
    "\n"
   ]
  },
  {
   "cell_type": "markdown",
   "id": "179a9019",
   "metadata": {},
   "source": [
    "✅ 1. Optionally: Engineer a Custom Binary Feature\n",
    "You could optionally add a feature like:\n",
    "~~~python\n",
    "\n",
    "df_sample[\"is_high_risk_type\"] = df_sample[\"type\"].isin([\"TRANSFER\", \"CASH_OUT\"]).astype(int)\n",
    "~~~\n",
    "This might improve performance for simpler models like Logistic Regression.\n"
   ]
  },
  {
   "cell_type": "markdown",
   "id": "3f48b7af",
   "metadata": {},
   "source": [
    "✅ 2. Optionally: Engineer a Custom Binary Feature\n",
    "You could optionally add a feature like:\n",
    "~~~python\n",
    "\n",
    "df_sample[\"is_high_risk_type\"] = df_sample[\"type\"].isin([\"TRANSFER\", \"CASH_OUT\"]).astype(int)\n",
    "~~~\n",
    "\n",
    "~~~python\n",
    "# Feature engineering: balance differences\n",
    "df[\"orig_diff\"] = df[\"oldbalanceOrg\"] - df[\"newbalanceOrig\"]\n",
    "df[\"dest_diff\"] = df[\"newbalanceDest\"] - df[\"oldbalanceDest\"]\n",
    "~~~"
   ]
  }
 ],
 "metadata": {
  "kernelspec": {
   "display_name": "ds",
   "language": "python",
   "name": "python3"
  },
  "language_info": {
   "codemirror_mode": {
    "name": "ipython",
    "version": 3
   },
   "file_extension": ".py",
   "mimetype": "text/x-python",
   "name": "python",
   "nbconvert_exporter": "python",
   "pygments_lexer": "ipython3",
   "version": "3.12.9"
  }
 },
 "nbformat": 4,
 "nbformat_minor": 5
}
